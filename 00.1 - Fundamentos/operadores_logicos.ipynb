{
 "cells": [
  {
   "cell_type": "markdown",
   "metadata": {},
   "source": [
    "# AND = Para ser True tudo tem que ser true\n",
    "# OR = Para ser True apenas um tem que ser True"
   ]
  },
  {
   "cell_type": "code",
   "execution_count": 1,
   "metadata": {},
   "outputs": [
    {
     "name": "stdout",
     "output_type": "stream",
     "text": [
      "True\n",
      "False\n",
      "False\n",
      "True\n",
      "True\n",
      "True\n",
      "False\n"
     ]
    }
   ],
   "source": [
    "print(True and True)\n",
    "print(True and False)\n",
    "print(False and False)\n",
    "print(True or True)\n",
    "print(True or True)\n",
    "print(True or False)\n",
    "print(False or False)"
   ]
  },
  {
   "cell_type": "markdown",
   "metadata": {},
   "source": [
    "# Exemplo de saldo "
   ]
  },
  {
   "cell_type": "code",
   "execution_count": null,
   "metadata": {},
   "outputs": [],
   "source": [
    "saldo = 1000\n",
    "saque = 250\n",
    "limite = 200\n",
    "conta_especial = True\n",
    "\n",
    "expressao1 = saldo >= saque and saque <= limite or conta_especial and saldo >= saque\n",
    "print(expressao1)\n",
    "\n",
    "expressao2 = (saldo >= saque and saque <= limite) or (conta_especial and saldo >= saque)\n",
    "print(expressao2)\n",
    "\n",
    "conta_normal_com_saldo_suficiente = saldo >= saque and saque <= limite\n",
    "conta_especial_com_saldo_suficiente = conta_especial and saldo >= saque\n",
    "\n",
    "expressao3 = conta_normal_com_saldo_suficiente or conta_especial_com_saldo_suficiente\n",
    "print(expressao3)\n"
   ]
  }
 ],
 "metadata": {
  "kernelspec": {
   "display_name": "base",
   "language": "python",
   "name": "python3"
  },
  "language_info": {
   "codemirror_mode": {
    "name": "ipython",
    "version": 3
   },
   "file_extension": ".py",
   "mimetype": "text/x-python",
   "name": "python",
   "nbconvert_exporter": "python",
   "pygments_lexer": "ipython3",
   "version": "3.11.5"
  }
 },
 "nbformat": 4,
 "nbformat_minor": 2
}
