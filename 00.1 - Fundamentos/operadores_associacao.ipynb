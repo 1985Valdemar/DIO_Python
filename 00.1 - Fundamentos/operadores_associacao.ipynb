{
 "cells": [
  {
   "cell_type": "markdown",
   "metadata": {},
   "source": [
    "# in = esta dentro\n",
    "# not in = não esta"
   ]
  },
  {
   "cell_type": "code",
   "execution_count": 1,
   "metadata": {},
   "outputs": [
    {
     "name": "stdout",
     "output_type": "stream",
     "text": [
      "True\n",
      "True\n",
      "False\n"
     ]
    }
   ],
   "source": [
    "curso = \"Curso de Python\"\n",
    "frutas = [\"Laranja\", \"Uva\", \"Limão\"]\n",
    "saques = [1500, 100]\n",
    "\n",
    "# in = esta dentro\n",
    "dentro = \"Python\" in curso\n",
    "print(dentro)\n",
    "\n",
    "# not in = não esta\n",
    "fora = \"maçã\" not in frutas\n",
    "print(fora)\n",
    "\n",
    "valor = 200 in saques\n",
    "print(valor)\n"
   ]
  }
 ],
 "metadata": {
  "kernelspec": {
   "display_name": "base",
   "language": "python",
   "name": "python3"
  },
  "language_info": {
   "codemirror_mode": {
    "name": "ipython",
    "version": 3
   },
   "file_extension": ".py",
   "mimetype": "text/x-python",
   "name": "python",
   "nbconvert_exporter": "python",
   "pygments_lexer": "ipython3",
   "version": "3.11.5"
  }
 },
 "nbformat": 4,
 "nbformat_minor": 2
}
