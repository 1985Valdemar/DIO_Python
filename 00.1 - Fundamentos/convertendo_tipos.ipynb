{
 "cells": [
  {
   "cell_type": "markdown",
   "metadata": {},
   "source": [
    "# Convertendo Tipos\n",
    "\n",
    "## Float para Inteiro\n"
   ]
  },
  {
   "cell_type": "code",
   "execution_count": 8,
   "metadata": {},
   "outputs": [
    {
     "name": "stdout",
     "output_type": "stream",
     "text": [
      "10.3 = Aqui Float\n",
      "10 = Aqui Inteiro\n",
      "1\n",
      "1.0\n"
     ]
    }
   ],
   "source": [
    "preco = 10.30\n",
    "print(preco, \"= Aqui Float\")\n",
    "\n",
    "# CONVERTENDO\n",
    "\n",
    "preco = int(preco)\n",
    "print(preco, \"= Aqui Inteiro\")\n",
    "\n",
    "print(int(1.9))\n",
    "print(float(1))"
   ]
  },
  {
   "cell_type": "markdown",
   "metadata": {},
   "source": [
    "## Concatenar na mesma linha\n"
   ]
  },
  {
   "cell_type": "code",
   "execution_count": 6,
   "metadata": {},
   "outputs": [
    {
     "name": "stdout",
     "output_type": "stream",
     "text": [
      "10.5\n",
      "28\n",
      "idade 28 preco 10.5\n"
     ]
    }
   ],
   "source": [
    "preco = 10.50\n",
    "idade = 28\n",
    "\n",
    "print(str(preco))\n",
    "\n",
    "print(str(idade))\n",
    "\n",
    "texto = f\"idade {idade} preco {preco}\"\n",
    "print(texto)"
   ]
  }
 ],
 "metadata": {
  "kernelspec": {
   "display_name": "base",
   "language": "python",
   "name": "python3"
  },
  "language_info": {
   "codemirror_mode": {
    "name": "ipython",
    "version": 3
   },
   "file_extension": ".py",
   "mimetype": "text/x-python",
   "name": "python",
   "nbconvert_exporter": "python",
   "pygments_lexer": "ipython3",
   "version": "3.11.5"
  }
 },
 "nbformat": 4,
 "nbformat_minor": 2
}
