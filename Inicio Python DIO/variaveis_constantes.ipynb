{
 "cells": [
  {
   "cell_type": "markdown",
   "metadata": {},
   "source": [
    "# Variaveis exemplos"
   ]
  },
  {
   "cell_type": "code",
   "execution_count": 3,
   "metadata": {},
   "outputs": [
    {
     "name": "stdout",
     "output_type": "stream",
     "text": [
      "Meu nome é Valdemar e eu tenho 38 ano(s) de idade.\n"
     ]
    }
   ],
   "source": [
    "age = 38\n",
    "name = 'Valdemar'\n",
    "print(f'Meu nome é {name} e eu tenho {age} ano(s) de idade.')\n"
   ]
  },
  {
   "cell_type": "code",
   "execution_count": 1,
   "metadata": {},
   "outputs": [
    {
     "name": "stdout",
     "output_type": "stream",
     "text": [
      "1000\n"
     ]
    }
   ],
   "source": [
    "# NOMES SUGESTIVOS SNAKE CASE TUDO MINIUSCULO\n",
    "limite_saque_diario = 1000\n",
    "print(limite_saque_diario)"
   ]
  },
  {
   "cell_type": "markdown",
   "metadata": {},
   "source": [
    "## Constante e imutavel\n",
    "\n",
    "Convenção todo maisculo e uma constante\n"
   ]
  },
  {
   "cell_type": "code",
   "execution_count": 4,
   "metadata": {},
   "outputs": [],
   "source": [
    "ABS_PATH = 'ENDEREÇO PARA NÃO MUDAR'\n",
    "DEBUG = True\n",
    "STATES = [\n",
    "    'SP',\n",
    "    'RJ',\n",
    "    'MG',\n",
    "]\n",
    "AMOUNT = 30.2"
   ]
  },
  {
   "cell_type": "markdown",
   "metadata": {},
   "source": [
    "# Boas Praticas Python\n",
    "## Nomes deve ser snake case = taxa_juros \n",
    "## Escolher nomes sugestivos\n",
    "## Nomes de constantes todo em MAIÚSCULO."
   ]
  }
 ],
 "metadata": {
  "kernelspec": {
   "display_name": "base",
   "language": "python",
   "name": "python3"
  },
  "language_info": {
   "codemirror_mode": {
    "name": "ipython",
    "version": 3
   },
   "file_extension": ".py",
   "mimetype": "text/x-python",
   "name": "python",
   "nbconvert_exporter": "python",
   "pygments_lexer": "ipython3",
   "version": "3.11.5"
  }
 },
 "nbformat": 4,
 "nbformat_minor": 2
}
